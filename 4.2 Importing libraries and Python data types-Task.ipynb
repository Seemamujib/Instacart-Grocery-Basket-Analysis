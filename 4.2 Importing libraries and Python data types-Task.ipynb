{
 "cells": [
  {
   "cell_type": "markdown",
   "id": "e4a92ad0",
   "metadata": {},
   "source": [
    "#01. Importing Libraries"
   ]
  },
  {
   "cell_type": "code",
   "execution_count": null,
   "id": "60a43428",
   "metadata": {},
   "outputs": [],
   "source": [
    "#Import Libraries\n",
    "import pandas as pd\n",
    "import numpy as np\n",
    "import os"
   ]
  },
  {
   "cell_type": "markdown",
   "id": "4de6fcb8",
   "metadata": {},
   "source": [
    "#02.Data Types"
   ]
  },
  {
   "cell_type": "code",
   "execution_count": 14,
   "id": "0acae8de",
   "metadata": {},
   "outputs": [
    {
     "name": "stdout",
     "output_type": "stream",
     "text": [
      "100\n",
      "100\n",
      "100\n",
      "7.774390243902439\n",
      "0.12862745098039216\n",
      "Semi-finals\n",
      "Good morning and have a great day! \n",
      "Sunshine Sunshine Sunshine Sunshine Sunshine Sunshine Sunshine Sunshine Sunshine Sunshine Sunshine Sunshine Sunshine Sunshine Sunshine Sunshine Sunshine Sunshine Sunshine Sunshine Sunshine Sunshine Sunshine Sunshine Sunshine Sunshine Sunshine Sunshine Sunshine Sunshine Sunshine Sunshine Sunshine Sunshine Sunshine Sunshine Sunshine Sunshine Sunshine Sunshine Sunshine Sunshine Sunshine Sunshine Sunshine Sunshine Sunshine Sunshine Sunshine Sunshine Sunshine Sunshine Sunshine Sunshine Sunshine Sunshine Sunshine Sunshine Sunshine Sunshine Sunshine Sunshine Sunshine Sunshine Sunshine Sunshine Sunshine Sunshine Sunshine Sunshine Sunshine Sunshine Sunshine Sunshine Sunshine Sunshine Sunshine Sunshine Sunshine Sunshine Sunshine Sunshine Sunshine Sunshine Sunshine Sunshine Sunshine Sunshine Sunshine Sunshine Sunshine Sunshine Sunshine Sunshine Sunshine Sunshine Sunshine Sunshine Sunshine Sunshine \n"
     ]
    }
   ],
   "source": [
    "#numeric variables\n",
    "#Method 1\n",
    "a=75\n",
    "b=25\n",
    "print (a+b)\n",
    "\n",
    "#Method 2\n",
    "c=125\n",
    "print (c-b)\n",
    "\n",
    "#Method 3\n",
    "print (b*4)\n",
    "\n",
    "#float variables\n",
    "d=38.25\n",
    "e=4.92\n",
    "print (d/e)\n",
    "print (e/d)\n",
    "\n",
    "#string variable\n",
    "f='Semi-'\n",
    "g='finals'\n",
    "print (f+g)\n",
    "\n",
    "h='Good morning '\n",
    "i='and have a great day! '\n",
    "print (h+i)\n",
    "\n",
    "#Bonus task\n",
    "j='Sunshine '\n",
    "print(j*100)\n"
   ]
  },
  {
   "cell_type": "code",
   "execution_count": null,
   "id": "81cf9c3c",
   "metadata": {},
   "outputs": [],
   "source": []
  }
 ],
 "metadata": {
  "kernelspec": {
   "display_name": "Python 3 (ipykernel)",
   "language": "python",
   "name": "python3"
  },
  "language_info": {
   "codemirror_mode": {
    "name": "ipython",
    "version": 3
   },
   "file_extension": ".py",
   "mimetype": "text/x-python",
   "name": "python",
   "nbconvert_exporter": "python",
   "pygments_lexer": "ipython3",
   "version": "3.11.5"
  }
 },
 "nbformat": 4,
 "nbformat_minor": 5
}
